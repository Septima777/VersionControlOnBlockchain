{
 "cells": [
  {
   "cell_type": "code",
   "execution_count": null,
   "metadata": {
    "scrolled": true
   },
   "outputs": [],
   "source": [
    "import json\n",
    "from web3 import Web3\n",
    "import web3\n",
    "import csv\n",
    "import array\n",
    "import time\n",
    "import asyncio\n",
    "\n",
    "# contract address after deploy\n",
    "myContractAddress = \"0x3174c5084c196f961e310C2b7Bb8396EfEF80Da5\"; \n",
    "\n",
    "# get abi from Data.json, get data from soini_filtered_last.csv, collect url that makes error in errorSnippet.txt\n",
    "with open(\"./build/contracts/Data.json\") as f, open('./Dataset/soini_filtered_last.csv', 'r', encoding=\"utf-8\", errors='ignore') as csv_file, open('errorSnippet.txt', 'a') as text_file :\n",
    "    info_json = json.load(f)\n",
    "    abi = info_json[\"abi\"]\n",
    "    \n",
    "    csv_reader = csv.reader(csv_file)\n",
    "    # start at 0\n",
    "    count = 0\n",
    "    start = count;\n",
    "    skip = 0;\n",
    "    url = None\n",
    "    date = None\n",
    "    language = None\n",
    "    projectName = None\n",
    "    companyName = None\n",
    "    projectPath = None\n",
    "    projectAuthor = None\n",
    "    transact = None\n",
    "    \n",
    "    # set up web3 connection with Ganache\n",
    "    w3 = Web3(Web3.WebsocketProvider(\"ws://127.0.0.1:8545\", websocket_kwargs={'timeout': 10000}))\n",
    "    # read smart contract\n",
    "    myContract = w3.eth.contract(address=myContractAddress, abi=abi)\n",
    "    \n",
    "    # set up default account to be sender\n",
    "    w3.eth.defaultAccount = w3.eth.accounts[0]\n",
    "    \n",
    "    for row in csv_reader:\n",
    "        if(count > 11465):\n",
    "            break\n",
    "        if(skip < start):\n",
    "            skip += 1\n",
    "            continue\n",
    "        url = row[0]\n",
    "        if row[2]:\n",
    "            date = row[1]\n",
    "            language = row[2]\n",
    "            projectName = row[3]\n",
    "            companyName = row[4]\n",
    "            projectPath = row[5]\n",
    "            projectAuthor = row[6]\n",
    "            \n",
    "            # call function to store data on blockchain                    \n",
    "            try:\n",
    "                transact = myContract.functions.createNewCodeSnippet(url, date, language, projectName, companyName, projectPath,projectAuthor).transact()                \n",
    "                # waiting for transaction to be mined\n",
    "                w3.eth.waitForTransactionReceipt(transact)\n",
    "            except asyncio.TimeoutError:\n",
    "                # when timeout error occured, url will be written in textfile\n",
    "                text_file.write(url + \" --- \" + date + \"\\n\")\n",
    "                print('timeout!')                        \n",
    "\n",
    "            # txn_receipt = w3.eth.getTransactionReceipt(transact)\n",
    "            \n",
    "            # collect transaction number in array\n",
    "            transactionNumber = []\n",
    "            transactionNumber.append(w3.toHex(transact))\n",
    "#             print(transactionNumber)\n",
    "#             print(txn_receipt['transactionHash'])           \n",
    "        print(count)\n",
    "        count += 1;\n",
    "         \n",
    "\n",
    "\n"
   ]
  },
  {
   "cell_type": "code",
   "execution_count": null,
   "metadata": {},
   "outputs": [],
   "source": [
    "# get code snippet's datail from url by index\n",
    "# first parameter - url\n",
    "# second parameter - index (start at 0)\n",
    "# myContract.functions.getDetailCodeSnippet(\"http://stackoverflow.com/a/10001884/1136593\",0).call()"
   ]
  },
  {
   "cell_type": "code",
   "execution_count": null,
   "metadata": {},
   "outputs": [],
   "source": []
  },
  {
   "cell_type": "code",
   "execution_count": null,
   "metadata": {},
   "outputs": [],
   "source": []
  },
  {
   "cell_type": "code",
   "execution_count": null,
   "metadata": {
    "scrolled": true
   },
   "outputs": [],
   "source": []
  },
  {
   "cell_type": "code",
   "execution_count": null,
   "metadata": {},
   "outputs": [],
   "source": []
  }
 ],
 "metadata": {
  "kernelspec": {
   "display_name": "Python 3",
   "language": "python",
   "name": "python3"
  },
  "language_info": {
   "codemirror_mode": {
    "name": "ipython",
    "version": 3
   },
   "file_extension": ".py",
   "mimetype": "text/x-python",
   "name": "python",
   "nbconvert_exporter": "python",
   "pygments_lexer": "ipython3",
   "version": "3.7.3"
  }
 },
 "nbformat": 4,
 "nbformat_minor": 2
}
