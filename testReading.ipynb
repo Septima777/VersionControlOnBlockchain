{
 "cells": [
  {
   "cell_type": "code",
   "execution_count": 37,
   "metadata": {},
   "outputs": [
    {
     "name": "stdout",
     "output_type": "stream",
     "text": [
      "{'url'}\n",
      "{'url'}\n",
      "1\n",
      "{'http://stackoverflow.com/questions/156275/what-is-the-equivalent-of-the-c-pairl-r-in-java'}\n",
      "{'http://stackoverflow.com/questions/156275/what-is-the-equivalent-of-the-c-pairl-r-in-java'}\n",
      "2\n",
      "{'http://stackoverflow.com/questions/15629183/svg-offset-issue-in-firefox'}\n",
      "{'http://stackoverflow.com/questions/15629183/svg-offset-issue-in-firefox'}\n",
      "3\n",
      "{'http://stackoverflow.com/questions/15632215/preference-items-being-automatically-re-set'}\n",
      "{'http://stackoverflow.com/questions/15632215/preference-items-being-automatically-re-set'}\n",
      "4\n",
      "{'http://stackoverflow.com/questions/15632215/preference-items-being-automatically-re-set/15744076#15744076'}\n",
      "{'http://stackoverflow.com/questions/15632215/preference-items-being-automatically-re-set/15744076#15744076'}\n",
      "5\n"
     ]
    }
   ],
   "source": [
    "import csv\n",
    "\n",
    "with open('output_test.csv', 'r', encoding=\"utf-8\", errors='ignore') as csv_file:\n",
    "    csv_reader = csv.reader(csv_file, delimiter=',')\n",
    "    line_count = 0\n",
    "    url = None\n",
    "    questionTitle = None\n",
    "    viewCount = 0\n",
    "    questionAuthor = None\n",
    "    questionEditor = None\n",
    "    questionCreationDate = 0\n",
    "    questionLastActivity = 0\n",
    "    questionLastModified = 0\n",
    "    for row in csv_reader:\n",
    "        if (line_count < 5):\n",
    "            url = {row[0]}\n",
    "            url_str = str(url)\n",
    "#             questionTitle = {row[1]}\n",
    "#             viewCount = {row[3]}\n",
    "#             questionAuthor = {row[4]}\n",
    "#             questionEditor = {row[5]}\n",
    "#             questionCreationDate = {row[6]}\n",
    "#             questionLastActivity = {row[7]}\n",
    "#             questionLastModified = {row[8]}\n",
    "            print(url)\n",
    "#             print(questionTitle)\n",
    "#             print(viewCount)\n",
    "#             print(questionAuthor)\n",
    "#             print(questionEditor)\n",
    "#             print(questionCreationDate)\n",
    "#             print(questionLastActivity)\n",
    "#             print(questionLastModified)\n",
    "            line_count += 1;\n",
    "            print(line_count)\n",
    "            "
   ]
  },
  {
   "cell_type": "code",
   "execution_count": null,
   "metadata": {},
   "outputs": [],
   "source": []
  },
  {
   "cell_type": "code",
   "execution_count": null,
   "metadata": {},
   "outputs": [],
   "source": []
  },
  {
   "cell_type": "code",
   "execution_count": null,
   "metadata": {},
   "outputs": [],
   "source": []
  }
 ],
 "metadata": {
  "kernelspec": {
   "display_name": "Python 3",
   "language": "python",
   "name": "python3"
  },
  "language_info": {
   "codemirror_mode": {
    "name": "ipython",
    "version": 3
   },
   "file_extension": ".py",
   "mimetype": "text/x-python",
   "name": "python",
   "nbconvert_exporter": "python",
   "pygments_lexer": "ipython3",
   "version": "3.7.3"
  }
 },
 "nbformat": 4,
 "nbformat_minor": 2
}
